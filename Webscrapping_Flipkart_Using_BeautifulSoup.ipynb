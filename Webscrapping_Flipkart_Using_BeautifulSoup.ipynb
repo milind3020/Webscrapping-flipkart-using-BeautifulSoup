{
 "cells": [
  {
   "cell_type": "code",
   "execution_count": 1,
   "id": "5fceec07",
   "metadata": {},
   "outputs": [],
   "source": [
    "import requests"
   ]
  },
  {
   "cell_type": "code",
   "execution_count": 2,
   "id": "add56760",
   "metadata": {},
   "outputs": [],
   "source": [
    "url='https://www.flipkart.com/mobiles/pr?sid=tyy%2C4io&p%5B%5D=facets.brand%255B%255D%3DApple&ctx=eyJjYXJkQ29udGV4dCI6eyJhdHRyaWJ1dGVzIjp7InRpdGxlIjp7Im11bHRpVmFsdWVkQXR0cmlidXRlIjp7ImtleSI6InRpdGxlIiwiaW5mZXJlbmNlVHlwZSI6IlRJVExFIiwidmFsdWVzIjpbIlNob3AgTm93Il0sInZhbHVlVHlwZSI6Ik1VTFRJX1ZBTFVFRCJ9fX19fQ%3D%3D&otracker=clp_metro_expandable_8_3.metroExpandable.METRO_EXPANDABLE_Shop%2BNow_mobile-phones-store_92RED14GXPXF_wp2&fm=neo%2Fmerchandising&iid=M_981137d8-a4f5-499c-b818-ef2f25e02881_3.92RED14GXPXF&ppt=clp&ppn=mobile-phones-store&ssid=l2gkry68400000001670444398174'"
   ]
  },
  {
   "cell_type": "code",
   "execution_count": 3,
   "id": "ea43fab2",
   "metadata": {},
   "outputs": [],
   "source": [
    "\n",
    "res=requests.get(url)"
   ]
  },
  {
   "cell_type": "code",
   "execution_count": 4,
   "id": "de0b91cd",
   "metadata": {},
   "outputs": [
    {
     "data": {
      "text/plain": [
       "200"
      ]
     },
     "execution_count": 4,
     "metadata": {},
     "output_type": "execute_result"
    }
   ],
   "source": [
    "res.status_code"
   ]
  },
  {
   "cell_type": "code",
   "execution_count": 5,
   "id": "0b71947f",
   "metadata": {},
   "outputs": [],
   "source": [
    "from bs4 import BeautifulSoup"
   ]
  },
  {
   "cell_type": "code",
   "execution_count": 6,
   "id": "5a009433",
   "metadata": {},
   "outputs": [],
   "source": [
    "soup=BeautifulSoup(res.text, 'html.parser')"
   ]
  },
  {
   "cell_type": "code",
   "execution_count": 7,
   "id": "98275e81",
   "metadata": {},
   "outputs": [],
   "source": [
    "soup\n",
    "products=[]\n",
    "prices=[]\n",
    "ratings=[]"
   ]
  },
  {
   "cell_type": "code",
   "execution_count": 8,
   "id": "86f05f6f",
   "metadata": {},
   "outputs": [
    {
     "data": {
      "text/plain": [
       "<title>Mobile Price List | Compare Mobiles on Buy Online @ Flipkart.</title>"
      ]
     },
     "execution_count": 8,
     "metadata": {},
     "output_type": "execute_result"
    }
   ],
   "source": [
    "soup.title"
   ]
  },
  {
   "cell_type": "code",
   "execution_count": 9,
   "id": "e515e417",
   "metadata": {},
   "outputs": [],
   "source": [
    "elements = soup.find_all(\"div\",class_=\"_4rR01T\")\n"
   ]
  },
  {
   "cell_type": "code",
   "execution_count": 10,
   "id": "3e3ee359",
   "metadata": {},
   "outputs": [
    {
     "data": {
      "text/plain": [
       "[<div class=\"_4rR01T\">APPLE iPhone 13 (Green, 256 GB)</div>,\n",
       " <div class=\"_4rR01T\">APPLE iPhone 11 (Red, 128 GB)</div>,\n",
       " <div class=\"_4rR01T\">APPLE iPhone 11 (Black, 128 GB)</div>,\n",
       " <div class=\"_4rR01T\">APPLE iPhone 11 (White, 128 GB)</div>,\n",
       " <div class=\"_4rR01T\">APPLE iPhone 11 (Black, 64 GB)</div>,\n",
       " <div class=\"_4rR01T\">APPLE iPhone 12 (Black, 256 GB)</div>,\n",
       " <div class=\"_4rR01T\">APPLE iPhone 11 (White, 64 GB)</div>,\n",
       " <div class=\"_4rR01T\">APPLE iPhone 12 Mini (Black, 64 GB)</div>,\n",
       " <div class=\"_4rR01T\">APPLE iPhone 13 (Midnight, 256 GB)</div>,\n",
       " <div class=\"_4rR01T\">APPLE iPhone 12 (Blue, 256 GB)</div>,\n",
       " <div class=\"_4rR01T\">APPLE iPhone 12 Mini (Black, 128 GB)</div>,\n",
       " <div class=\"_4rR01T\">APPLE iPhone 12 Mini (Blue, 64 GB)</div>,\n",
       " <div class=\"_4rR01T\">APPLE iPhone 12 Mini (White, 64 GB)</div>,\n",
       " <div class=\"_4rR01T\">APPLE iPhone 13 (Midnight, 128 GB)</div>,\n",
       " <div class=\"_4rR01T\">APPLE iPhone 14 Pro (Deep Purple, 256 GB)</div>,\n",
       " <div class=\"_4rR01T\">APPLE iPhone 14 (Purple, 128 GB)</div>,\n",
       " <div class=\"_4rR01T\">APPLE iPhone 13 (Starlight, 128 GB)</div>,\n",
       " <div class=\"_4rR01T\">APPLE iPhone 14 Pro (Deep Purple, 128 GB)</div>,\n",
       " <div class=\"_4rR01T\">APPLE iPhone 12 Mini (White, 128 GB)</div>,\n",
       " <div class=\"_4rR01T\">APPLE iPhone 13 (Blue, 128 GB)</div>,\n",
       " <div class=\"_4rR01T\">APPLE iPhone 13 (Green, 128 GB)</div>,\n",
       " <div class=\"_4rR01T\">APPLE iPhone 14 (Starlight, 128 GB)</div>,\n",
       " <div class=\"_4rR01T\">APPLE iPhone 13 (Starlight, 256 GB)</div>,\n",
       " <div class=\"_4rR01T\">APPLE iPhone 13 (Pink, 128 GB)</div>]"
      ]
     },
     "execution_count": 10,
     "metadata": {},
     "output_type": "execute_result"
    }
   ],
   "source": [
    "elements"
   ]
  },
  {
   "cell_type": "code",
   "execution_count": 11,
   "id": "59182f21",
   "metadata": {},
   "outputs": [],
   "source": [
    "for a in soup.find_all('div',attrs={'class':'_3pLy-c row'}):\n",
    "    name= a.find('div', attrs={'class':'_4rR01T'})\n",
    "    price=a.find('div', attrs={'class':'_30jeq3 _1_WHN1'})\n",
    "    rating= a.find('div', attrs={'class':'_3LWZlK'})\n",
    "    products.append(name.text)\n",
    "    prices.append(price.text)\n",
    "    ratings.append(rating.text)\n",
    "    "
   ]
  },
  {
   "cell_type": "code",
   "execution_count": 12,
   "id": "d92047d4",
   "metadata": {},
   "outputs": [],
   "source": [
    "import pandas as pd"
   ]
  },
  {
   "cell_type": "code",
   "execution_count": 13,
   "id": "18a07637",
   "metadata": {},
   "outputs": [],
   "source": [
    "data1=pd.DataFrame({'Products':products,'Prices':prices,'Ratings':ratings})"
   ]
  },
  {
   "cell_type": "code",
   "execution_count": 14,
   "id": "bfbfebe0",
   "metadata": {},
   "outputs": [
    {
     "data": {
      "text/html": [
       "<div>\n",
       "<style scoped>\n",
       "    .dataframe tbody tr th:only-of-type {\n",
       "        vertical-align: middle;\n",
       "    }\n",
       "\n",
       "    .dataframe tbody tr th {\n",
       "        vertical-align: top;\n",
       "    }\n",
       "\n",
       "    .dataframe thead th {\n",
       "        text-align: right;\n",
       "    }\n",
       "</style>\n",
       "<table border=\"1\" class=\"dataframe\">\n",
       "  <thead>\n",
       "    <tr style=\"text-align: right;\">\n",
       "      <th></th>\n",
       "      <th>Products</th>\n",
       "      <th>Prices</th>\n",
       "      <th>Ratings</th>\n",
       "    </tr>\n",
       "  </thead>\n",
       "  <tbody>\n",
       "    <tr>\n",
       "      <th>0</th>\n",
       "      <td>APPLE iPhone 13 (Green, 256 GB)</td>\n",
       "      <td>₹69,999</td>\n",
       "      <td>4.7</td>\n",
       "    </tr>\n",
       "    <tr>\n",
       "      <th>1</th>\n",
       "      <td>APPLE iPhone 11 (Red, 128 GB)</td>\n",
       "      <td>₹43,999</td>\n",
       "      <td>4.6</td>\n",
       "    </tr>\n",
       "    <tr>\n",
       "      <th>2</th>\n",
       "      <td>APPLE iPhone 11 (Black, 128 GB)</td>\n",
       "      <td>₹46,999</td>\n",
       "      <td>4.6</td>\n",
       "    </tr>\n",
       "    <tr>\n",
       "      <th>3</th>\n",
       "      <td>APPLE iPhone 11 (White, 128 GB)</td>\n",
       "      <td>₹46,999</td>\n",
       "      <td>4.6</td>\n",
       "    </tr>\n",
       "    <tr>\n",
       "      <th>4</th>\n",
       "      <td>APPLE iPhone 11 (Black, 64 GB)</td>\n",
       "      <td>₹39,999</td>\n",
       "      <td>4.6</td>\n",
       "    </tr>\n",
       "    <tr>\n",
       "      <th>5</th>\n",
       "      <td>APPLE iPhone 12 (Black, 256 GB)</td>\n",
       "      <td>₹60,400</td>\n",
       "      <td>4.6</td>\n",
       "    </tr>\n",
       "    <tr>\n",
       "      <th>6</th>\n",
       "      <td>APPLE iPhone 11 (White, 64 GB)</td>\n",
       "      <td>₹39,999</td>\n",
       "      <td>4.6</td>\n",
       "    </tr>\n",
       "    <tr>\n",
       "      <th>7</th>\n",
       "      <td>APPLE iPhone 12 Mini (Black, 64 GB)</td>\n",
       "      <td>₹37,999</td>\n",
       "      <td>4.5</td>\n",
       "    </tr>\n",
       "    <tr>\n",
       "      <th>8</th>\n",
       "      <td>APPLE iPhone 13 (Midnight, 256 GB)</td>\n",
       "      <td>₹69,999</td>\n",
       "      <td>4.7</td>\n",
       "    </tr>\n",
       "    <tr>\n",
       "      <th>9</th>\n",
       "      <td>APPLE iPhone 12 (Blue, 256 GB)</td>\n",
       "      <td>₹60,400</td>\n",
       "      <td>4.6</td>\n",
       "    </tr>\n",
       "    <tr>\n",
       "      <th>10</th>\n",
       "      <td>APPLE iPhone 12 Mini (Black, 128 GB)</td>\n",
       "      <td>₹59,999</td>\n",
       "      <td>4.5</td>\n",
       "    </tr>\n",
       "    <tr>\n",
       "      <th>11</th>\n",
       "      <td>APPLE iPhone 12 Mini (Blue, 64 GB)</td>\n",
       "      <td>₹37,999</td>\n",
       "      <td>4.5</td>\n",
       "    </tr>\n",
       "    <tr>\n",
       "      <th>12</th>\n",
       "      <td>APPLE iPhone 12 Mini (White, 64 GB)</td>\n",
       "      <td>₹37,999</td>\n",
       "      <td>4.5</td>\n",
       "    </tr>\n",
       "    <tr>\n",
       "      <th>13</th>\n",
       "      <td>APPLE iPhone 13 (Midnight, 128 GB)</td>\n",
       "      <td>₹64,999</td>\n",
       "      <td>4.7</td>\n",
       "    </tr>\n",
       "    <tr>\n",
       "      <th>14</th>\n",
       "      <td>APPLE iPhone 14 Pro (Deep Purple, 256 GB)</td>\n",
       "      <td>₹1,39,900</td>\n",
       "      <td>4.7</td>\n",
       "    </tr>\n",
       "    <tr>\n",
       "      <th>15</th>\n",
       "      <td>APPLE iPhone 14 (Purple, 128 GB)</td>\n",
       "      <td>₹78,740</td>\n",
       "      <td>4.6</td>\n",
       "    </tr>\n",
       "    <tr>\n",
       "      <th>16</th>\n",
       "      <td>APPLE iPhone 13 (Starlight, 128 GB)</td>\n",
       "      <td>₹64,999</td>\n",
       "      <td>4.7</td>\n",
       "    </tr>\n",
       "    <tr>\n",
       "      <th>17</th>\n",
       "      <td>APPLE iPhone 14 Pro (Deep Purple, 128 GB)</td>\n",
       "      <td>₹1,29,900</td>\n",
       "      <td>4.7</td>\n",
       "    </tr>\n",
       "    <tr>\n",
       "      <th>18</th>\n",
       "      <td>APPLE iPhone 12 Mini (White, 128 GB)</td>\n",
       "      <td>₹59,999</td>\n",
       "      <td>4.5</td>\n",
       "    </tr>\n",
       "    <tr>\n",
       "      <th>19</th>\n",
       "      <td>APPLE iPhone 13 (Blue, 128 GB)</td>\n",
       "      <td>₹64,999</td>\n",
       "      <td>4.7</td>\n",
       "    </tr>\n",
       "    <tr>\n",
       "      <th>20</th>\n",
       "      <td>APPLE iPhone 13 (Green, 128 GB)</td>\n",
       "      <td>₹64,999</td>\n",
       "      <td>4.7</td>\n",
       "    </tr>\n",
       "    <tr>\n",
       "      <th>21</th>\n",
       "      <td>APPLE iPhone 14 (Starlight, 128 GB)</td>\n",
       "      <td>₹78,740</td>\n",
       "      <td>4.6</td>\n",
       "    </tr>\n",
       "    <tr>\n",
       "      <th>22</th>\n",
       "      <td>APPLE iPhone 13 (Starlight, 256 GB)</td>\n",
       "      <td>₹69,999</td>\n",
       "      <td>4.7</td>\n",
       "    </tr>\n",
       "    <tr>\n",
       "      <th>23</th>\n",
       "      <td>APPLE iPhone 13 (Pink, 128 GB)</td>\n",
       "      <td>₹64,999</td>\n",
       "      <td>4.7</td>\n",
       "    </tr>\n",
       "  </tbody>\n",
       "</table>\n",
       "</div>"
      ],
      "text/plain": [
       "                                     Products     Prices Ratings\n",
       "0             APPLE iPhone 13 (Green, 256 GB)    ₹69,999     4.7\n",
       "1               APPLE iPhone 11 (Red, 128 GB)    ₹43,999     4.6\n",
       "2             APPLE iPhone 11 (Black, 128 GB)    ₹46,999     4.6\n",
       "3             APPLE iPhone 11 (White, 128 GB)    ₹46,999     4.6\n",
       "4              APPLE iPhone 11 (Black, 64 GB)    ₹39,999     4.6\n",
       "5             APPLE iPhone 12 (Black, 256 GB)    ₹60,400     4.6\n",
       "6              APPLE iPhone 11 (White, 64 GB)    ₹39,999     4.6\n",
       "7         APPLE iPhone 12 Mini (Black, 64 GB)    ₹37,999     4.5\n",
       "8          APPLE iPhone 13 (Midnight, 256 GB)    ₹69,999     4.7\n",
       "9              APPLE iPhone 12 (Blue, 256 GB)    ₹60,400     4.6\n",
       "10       APPLE iPhone 12 Mini (Black, 128 GB)    ₹59,999     4.5\n",
       "11         APPLE iPhone 12 Mini (Blue, 64 GB)    ₹37,999     4.5\n",
       "12        APPLE iPhone 12 Mini (White, 64 GB)    ₹37,999     4.5\n",
       "13         APPLE iPhone 13 (Midnight, 128 GB)    ₹64,999     4.7\n",
       "14  APPLE iPhone 14 Pro (Deep Purple, 256 GB)  ₹1,39,900     4.7\n",
       "15           APPLE iPhone 14 (Purple, 128 GB)    ₹78,740     4.6\n",
       "16        APPLE iPhone 13 (Starlight, 128 GB)    ₹64,999     4.7\n",
       "17  APPLE iPhone 14 Pro (Deep Purple, 128 GB)  ₹1,29,900     4.7\n",
       "18       APPLE iPhone 12 Mini (White, 128 GB)    ₹59,999     4.5\n",
       "19             APPLE iPhone 13 (Blue, 128 GB)    ₹64,999     4.7\n",
       "20            APPLE iPhone 13 (Green, 128 GB)    ₹64,999     4.7\n",
       "21        APPLE iPhone 14 (Starlight, 128 GB)    ₹78,740     4.6\n",
       "22        APPLE iPhone 13 (Starlight, 256 GB)    ₹69,999     4.7\n",
       "23             APPLE iPhone 13 (Pink, 128 GB)    ₹64,999     4.7"
      ]
     },
     "execution_count": 14,
     "metadata": {},
     "output_type": "execute_result"
    }
   ],
   "source": [
    "data1"
   ]
  },
  {
   "cell_type": "code",
   "execution_count": null,
   "id": "c20bb2d1",
   "metadata": {},
   "outputs": [],
   "source": []
  }
 ],
 "metadata": {
  "kernelspec": {
   "display_name": "Python 3 (ipykernel)",
   "language": "python",
   "name": "python3"
  },
  "language_info": {
   "codemirror_mode": {
    "name": "ipython",
    "version": 3
   },
   "file_extension": ".py",
   "mimetype": "text/x-python",
   "name": "python",
   "nbconvert_exporter": "python",
   "pygments_lexer": "ipython3",
   "version": "3.9.12"
  }
 },
 "nbformat": 4,
 "nbformat_minor": 5
}
